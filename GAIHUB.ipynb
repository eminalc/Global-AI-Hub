{
  "cells": [
    {
      "cell_type": "code",
      "execution_count": 33,
      "id": "7ac5c930",
      "metadata": {
        "colab": {
          "base_uri": "https://localhost:8080/",
          "height": 408
        },
        "id": "7ac5c930",
        "outputId": "1d9dcad9-df23-42ab-9d03-7e7eb4560d64"
      },
      "outputs": [
        {
          "output_type": "display_data",
          "data": {
            "text/plain": [
              "<PIL.Image.Image image mode=L size=500x374 at 0x7F398A0C8B10>"
            ],
            "image/png": "[encoded data removed]"
          },
          "metadata": {}
        },
        {
          "output_type": "execute_result",
          "data": {
            "text/plain": [
              "-1"
            ]
          },
          "metadata": {},
          "execution_count": 33
        }
      ],
      "source": [
        "import glob\n",
        "import cv2 as cv\n",
        "import numpy as np\n",
        "import pandas as pd\n",
        "import matplotlib.pyplot as plt\n",
        "from sklearn.model_selection import train_test_split\n",
        "import tensorflow as tf\n",
        "from google.colab.patches import cv2_imshow\n",
        "\n",
        "img = cv.imread('/content/13230-0-0-1.png')\n",
        "img = cv.cvtColor(img,cv.COLOR_BGR2GRAY)\n",
        "cv2_imshow(img)\n",
        "cv.waitKey()\n",
        "#plt.imshow(img)\n",
        "#plt.show()"
      ]
    },
    {
      "cell_type": "code",
      "execution_count": 34,
      "id": "ccf55504",
      "metadata": {
        "colab": {
          "base_uri": "https://localhost:8080/"
        },
        "id": "ccf55504",
        "outputId": "b20223cc-84e6-462f-e6ab-5e0230571c90"
      },
      "outputs": [
        {
          "output_type": "execute_result",
          "data": {
            "text/plain": [
              "(374, 500)"
            ]
          },
          "metadata": {},
          "execution_count": 34
        }
      ],
      "source": [
        "img.shape"
      ]
    },
    {
      "cell_type": "code",
      "execution_count": 35,
      "id": "54e1f741",
      "metadata": {
        "colab": {
          "base_uri": "https://localhost:8080/",
          "height": 66
        },
        "id": "54e1f741",
        "outputId": "d4837701-2f28-47a4-f575-8adf32f87e63"
      },
      "outputs": [
        {
          "output_type": "display_data",
          "data": {
            "text/plain": [
              "<PIL.Image.Image image mode=L size=32x32 at 0x7F398A0EE550>"
            ],
            "image/png": "[encoded data removed]"
          },
          "metadata": {}
        },
        {
          "output_type": "execute_result",
          "data": {
            "text/plain": [
              "-1"
            ]
          },
          "metadata": {},
          "execution_count": 35
        }
      ],
      "source": [
        "img=cv.resize(img,(32,32))\n",
        "cv2_imshow(img)\n",
        "cv.waitKey()\n",
        "#plt.imshow(img)\n",
        "#plt.show()"
      ]
    },
    {
      "cell_type": "code",
      "execution_count": 36,
      "id": "306a1710",
      "metadata": {
        "colab": {
          "base_uri": "https://localhost:8080/"
        },
        "id": "306a1710",
        "outputId": "0549bd21-fb26-464d-9df6-724aaa609a3a"
      },
      "outputs": [
        {
          "output_type": "execute_result",
          "data": {
            "text/plain": [
              "(32, 32)"
            ]
          },
          "metadata": {},
          "execution_count": 36
        }
      ],
      "source": [
        "img.shape"
      ]
    },
    {
      "cell_type": "code",
      "execution_count": 37,
      "id": "25921a5b",
      "metadata": {
        "colab": {
          "base_uri": "https://localhost:8080/",
          "height": 49
        },
        "id": "25921a5b",
        "outputId": "33286252-3efa-47f3-899e-911cf6039f8d"
      },
      "outputs": [
        {
          "output_type": "display_data",
          "data": {
            "text/plain": [
              "<PIL.Image.Image image mode=L size=32x32 at 0x7F398A0EEFD0>"
            ],
            "image/png": "[encoded data removed]"
          },
          "metadata": {}
        }
      ],
      "source": [
        "dest_array = np.zeros((800, 800))\n",
        "normalizedimage = cv.normalize(img, dest_array, -20, 130, cv.NORM_MINMAX)\n",
        "\n",
        "cv2_imshow(normalizedimage)\n",
        "cv.waitKey()\n",
        "cv.destroyAllWindows()"
      ]
    },
    {
      "cell_type": "code",
      "execution_count": 38,
      "id": "8bdce0fb",
      "metadata": {
        "id": "8bdce0fb"
      },
      "outputs": [],
      "source": [
        "path_0 = glob.glob('/content/drive/MyDrive/Colab Notebooks/0/*.png')\n",
        "air_conditioner = []\n",
        "for image in path_0:\n",
        "    img = cv.imread(image)\n",
        "    img = cv.cvtColor(img,cv.COLOR_BGR2GRAY)\n",
        "    img = cv.resize(img,(32,32))\n",
        "    img = cv.normalize(img, dest_array, -20, 130, cv.NORM_MINMAX)\n",
        "    air_conditioner.append(img)\n",
        "    \n",
        "path_1 = glob.glob('/content/drive/MyDrive/Colab Notebooks/1/*.png')\n",
        "car_horn = []\n",
        "for image in path_1:\n",
        "    img = cv.imread(image)\n",
        "    img = cv.cvtColor(img,cv.COLOR_BGR2GRAY)\n",
        "    img = cv.resize(img,(32,32))\n",
        "    img = cv.normalize(img, dest_array, -20, 130, cv.NORM_MINMAX)\n",
        "    car_horn.append(img)\n",
        "    \n",
        "path_2 = glob.glob('/content/drive/MyDrive/Colab Notebooks/2/*.png')\n",
        "children_playing = []\n",
        "for image in path_2:\n",
        "    img = cv.imread(image)\n",
        "    img = cv.cvtColor(img,cv.COLOR_BGR2GRAY)\n",
        "    img = cv.resize(img,(32,32))\n",
        "    img = cv.normalize(img, dest_array, -20, 130, cv.NORM_MINMAX)\n",
        "    children_playing.append(img)\n",
        "    \n",
        "path_3 = glob.glob('/content/drive/MyDrive/Colab Notebooks/3/*.png')\n",
        "dog_bark = []\n",
        "for image in path_3:\n",
        "    img = cv.imread(image)\n",
        "    img = cv.cvtColor(img,cv.COLOR_BGR2GRAY)\n",
        "    img = cv.resize(img,(32,32))\n",
        "    img = cv.normalize(img, dest_array, -20, 130, cv.NORM_MINMAX)\n",
        "    dog_bark.append(img)\n",
        "    \n",
        "path_4 = glob.glob('/content/drive/MyDrive/Colab Notebooks/4/*.png')\n",
        "drilling = []\n",
        "for image in path_4:\n",
        "    img = cv.imread(image)\n",
        "    img = cv.cvtColor(img,cv.COLOR_BGR2GRAY)\n",
        "    img = cv.resize(img,(32,32))\n",
        "    img = cv.normalize(img, dest_array, -20, 130, cv.NORM_MINMAX)\n",
        "    drilling.append(img)\n",
        "    \n",
        "path_5 = glob.glob('/content/drive/MyDrive/Colab Notebooks/5/*.png')\n",
        "engine_idling = []\n",
        "for image in path_5:\n",
        "    img = cv.imread(image)\n",
        "    img = cv.cvtColor(img,cv.COLOR_BGR2GRAY)\n",
        "    img = cv.resize(img,(32,32))\n",
        "    img = cv.normalize(img, dest_array, -20, 130, cv.NORM_MINMAX)\n",
        "    engine_idling.append(img)\n",
        "    \n",
        "path_6 = glob.glob('/content/drive/MyDrive/Colab Notebooks/6/*.png')\n",
        "gun_shot = []\n",
        "for image in path_6:\n",
        "    img = cv.imread(image)\n",
        "    img = cv.cvtColor(img,cv.COLOR_BGR2GRAY)\n",
        "    img = cv.resize(img,(32,32))\n",
        "    img = cv.normalize(img, dest_array, -20, 130, cv.NORM_MINMAX)\n",
        "    gun_shot.append(img)\n",
        "    \n",
        "path_7 = glob.glob('/content/drive/MyDrive/Colab Notebooks/7/*.png')\n",
        "jackhammer = []\n",
        "for image in path_7:\n",
        "    img = cv.imread(image)\n",
        "    img = cv.cvtColor(img,cv.COLOR_BGR2GRAY)\n",
        "    img = cv.resize(img,(32,32))\n",
        "    img = cv.normalize(img, dest_array, -20, 130, cv.NORM_MINMAX)\n",
        "    jackhammer.append(img)\n",
        "    \n",
        "path_8 = glob.glob('/content/drive/MyDrive/Colab Notebooks/8/*.png')\n",
        "siren = []\n",
        "for image in path_8:\n",
        "    img = cv.imread(image)\n",
        "    img = cv.cvtColor(img,cv.COLOR_BGR2GRAY)\n",
        "    img = cv.resize(img,(32,32))\n",
        "    img = cv.normalize(img, dest_array, -20, 130, cv.NORM_MINMAX)\n",
        "    siren.append(img)\n",
        "\n",
        "path_9 = glob.glob('/content/drive/MyDrive/Colab Notebooks/9/*.png')\n",
        "street_music = []\n",
        "for image in path_9:\n",
        "    img = cv.imread(image)\n",
        "    img = cv.cvtColor(img,cv.COLOR_BGR2GRAY)\n",
        "    img = cv.resize(img,(32,32))\n",
        "    img = cv.normalize(img, dest_array, -20, 130, cv.NORM_MINMAX)\n",
        "    street_music.append(img)"
      ]
    },
    {
      "cell_type": "code",
      "execution_count": 39,
      "id": "fb8c1177",
      "metadata": {
        "id": "fb8c1177"
      },
      "outputs": [],
      "source": [
        "data_dict = {\"0\":air_conditioner, \"1\":car_horn, \"2\":children_playing, \"3\":dog_bark, \"4\":drilling,\n",
        "          \"5\":engine_idling, \"6\":gun_shot, \"7\":jackhammer, \"8\":siren, \"9\": street_music}"
      ]
    },
    {
      "cell_type": "code",
      "execution_count": 40,
      "id": "e466cf5c",
      "metadata": {
        "colab": {
          "base_uri": "https://localhost:8080/",
          "height": 424
        },
        "id": "e466cf5c",
        "outputId": "26e04a77-8b5e-4d6a-f3dc-74938d7b3670"
      },
      "outputs": [
        {
          "output_type": "execute_result",
          "data": {
            "text/plain": [
              "     label                                              image\n",
              "0        0  [[0, 0, 0, 0, 0, 0, 0, 0, 0, 0, 0, 0, 0, 0, 0,...\n",
              "1        0  [[0, 0, 0, 0, 0, 0, 0, 0, 0, 0, 0, 0, 0, 0, 0,...\n",
              "2        0  [[0, 0, 0, 0, 0, 0, 0, 0, 0, 0, 0, 0, 0, 0, 0,...\n",
              "3        0  [[0, 0, 0, 0, 0, 0, 0, 0, 0, 0, 0, 0, 0, 0, 0,...\n",
              "4        0  [[0, 0, 0, 0, 0, 0, 0, 0, 0, 0, 0, 0, 0, 0, 0,...\n",
              "...    ...                                                ...\n",
              "8727     9  [[0, 0, 0, 0, 0, 0, 0, 0, 0, 0, 0, 0, 0, 0, 0,...\n",
              "8728     9  [[0, 0, 0, 0, 0, 0, 0, 0, 0, 0, 0, 0, 0, 0, 0,...\n",
              "8729     9  [[0, 0, 0, 0, 0, 0, 0, 0, 0, 0, 0, 0, 0, 0, 0,...\n",
              "8730     9  [[0, 0, 0, 0, 0, 0, 0, 0, 0, 0, 0, 0, 0, 0, 0,...\n",
              "8731     9  [[0, 0, 0, 0, 0, 0, 0, 0, 0, 0, 0, 0, 0, 0, 0,...\n",
              "\n",
              "[8732 rows x 2 columns]"
            ],
            "text/html": [
              "\n",
              "  <div id=\"df-d2850e00-9ce2-4ecb-a16c-2ba2c439af7f\">\n",
              "    <div class=\"colab-df-container\">\n",
              "      <div>\n",
              "<style scoped>\n",
              "    .dataframe tbody tr th:only-of-type {\n",
              "        vertical-align: middle;\n",
              "    }\n",
              "\n",
              "    .dataframe tbody tr th {\n",
              "        vertical-align: top;\n",
              "    }\n",
              "\n",
              "    .dataframe thead th {\n",
              "        text-align: right;\n",
              "    }\n",
              "</style>\n",
              "<table border=\"1\" class=\"dataframe\">\n",
              "  <thead>\n",
              "    <tr style=\"text-align: right;\">\n",
              "      <th></th>\n",
              "      <th>label</th>\n",
              "      <th>image</th>\n",
              "    </tr>\n",
              "  </thead>\n",
              "  <tbody>\n",
              "    <tr>\n",
              "      <th>0</th>\n",
              "      <td>0</td>\n",
              "      <td>[[0, 0, 0, 0, 0, 0, 0, 0, 0, 0, 0, 0, 0, 0, 0,...</td>\n",
              "    </tr>\n",
              "    <tr>\n",
              "      <th>1</th>\n",
              "      <td>0</td>\n",
              "      <td>[[0, 0, 0, 0, 0, 0, 0, 0, 0, 0, 0, 0, 0, 0, 0,...</td>\n",
              "    </tr>\n",
              "    <tr>\n",
              "      <th>2</th>\n",
              "      <td>0</td>\n",
              "      <td>[[0, 0, 0, 0, 0, 0, 0, 0, 0, 0, 0, 0, 0, 0, 0,...</td>\n",
              "    </tr>\n",
              "    <tr>\n",
              "      <th>3</th>\n",
              "      <td>0</td>\n",
              "      <td>[[0, 0, 0, 0, 0, 0, 0, 0, 0, 0, 0, 0, 0, 0, 0,...</td>\n",
              "    </tr>\n",
              "    <tr>\n",
              "      <th>4</th>\n",
              "      <td>0</td>\n",
              "      <td>[[0, 0, 0, 0, 0, 0, 0, 0, 0, 0, 0, 0, 0, 0, 0,...</td>\n",
              "    </tr>\n",
              "    <tr>\n",
              "      <th>...</th>\n",
              "      <td>...</td>\n",
              "      <td>...</td>\n",
              "    </tr>\n",
              "    <tr>\n",
              "      <th>8727</th>\n",
              "      <td>9</td>\n",
              "      <td>[[0, 0, 0, 0, 0, 0, 0, 0, 0, 0, 0, 0, 0, 0, 0,...</td>\n",
              "    </tr>\n",
              "    <tr>\n",
              "      <th>8728</th>\n",
              "      <td>9</td>\n",
              "      <td>[[0, 0, 0, 0, 0, 0, 0, 0, 0, 0, 0, 0, 0, 0, 0,...</td>\n",
              "    </tr>\n",
              "    <tr>\n",
              "      <th>8729</th>\n",
              "      <td>9</td>\n",
              "      <td>[[0, 0, 0, 0, 0, 0, 0, 0, 0, 0, 0, 0, 0, 0, 0,...</td>\n",
              "    </tr>\n",
              "    <tr>\n",
              "      <th>8730</th>\n",
              "      <td>9</td>\n",
              "      <td>[[0, 0, 0, 0, 0, 0, 0, 0, 0, 0, 0, 0, 0, 0, 0,...</td>\n",
              "    </tr>\n",
              "    <tr>\n",
              "      <th>8731</th>\n",
              "      <td>9</td>\n",
              "      <td>[[0, 0, 0, 0, 0, 0, 0, 0, 0, 0, 0, 0, 0, 0, 0,...</td>\n",
              "    </tr>\n",
              "  </tbody>\n",
              "</table>\n",
              "<p>8732 rows × 2 columns</p>\n",
              "</div>\n",
              "      <button class=\"colab-df-convert\" onclick=\"convertToInteractive('df-d2850e00-9ce2-4ecb-a16c-2ba2c439af7f')\"\n",
              "              title=\"Convert this dataframe to an interactive table.\"\n",
              "              style=\"display:none;\">\n",
              "        \n",
              "  <svg xmlns=\"http://www.w3.org/2000/svg\" height=\"24px\"viewBox=\"0 0 24 24\"\n",
              "       width=\"24px\">\n",
              "    <path d=\"M0 0h24v24H0V0z\" fill=\"none\"/>\n",
              "    <path d=\"M18.56 5.44l.94 2.06.94-2.06 2.06-.94-2.06-.94-.94-2.06-.94 2.06-2.06.94zm-11 1L8.5 8.5l.94-2.06 2.06-.94-2.06-.94L8.5 2.5l-.94 2.06-2.06.94zm10 10l.94 2.06.94-2.06 2.06-.94-2.06-.94-.94-2.06-.94 2.06-2.06.94z\"/><path d=\"M17.41 7.96l-1.37-1.37c-.4-.4-.92-.59-1.43-.59-.52 0-1.04.2-1.43.59L10.3 9.45l-7.72 7.72c-.78.78-.78 2.05 0 2.83L4 21.41c.39.39.9.59 1.41.59.51 0 1.02-.2 1.41-.59l7.78-7.78 2.81-2.81c.8-.78.8-2.07 0-2.86zM5.41 20L4 18.59l7.72-7.72 1.47 1.35L5.41 20z\"/>\n",
              "  </svg>\n",
              "      </button>\n",
              "      \n",
              "  <style>\n",
              "    .colab-df-container {\n",
              "      display:flex;\n",
              "      flex-wrap:wrap;\n",
              "      gap: 12px;\n",
              "    }\n",
              "\n",
              "    .colab-df-convert {\n",
              "      background-color: #E8F0FE;\n",
              "      border: none;\n",
              "      border-radius: 50%;\n",
              "      cursor: pointer;\n",
              "      display: none;\n",
              "      fill: #1967D2;\n",
              "      height: 32px;\n",
              "      padding: 0 0 0 0;\n",
              "      width: 32px;\n",
              "    }\n",
              "\n",
              "    .colab-df-convert:hover {\n",
              "      background-color: #E2EBFA;\n",
              "      box-shadow: 0px 1px 2px rgba(60, 64, 67, 0.3), 0px 1px 3px 1px rgba(60, 64, 67, 0.15);\n",
              "      fill: #174EA6;\n",
              "    }\n",
              "\n",
              "    [theme=dark] .colab-df-convert {\n",
              "      background-color: #3B4455;\n",
              "      fill: #D2E3FC;\n",
              "    }\n",
              "\n",
              "    [theme=dark] .colab-df-convert:hover {\n",
              "      background-color: #434B5C;\n",
              "      box-shadow: 0px 1px 3px 1px rgba(0, 0, 0, 0.15);\n",
              "      filter: drop-shadow(0px 1px 2px rgba(0, 0, 0, 0.3));\n",
              "      fill: #FFFFFF;\n",
              "    }\n",
              "  </style>\n",
              "\n",
              "      <script>\n",
              "        const buttonEl =\n",
              "          document.querySelector('#df-d2850e00-9ce2-4ecb-a16c-2ba2c439af7f button.colab-df-convert');\n",
              "        buttonEl.style.display =\n",
              "          google.colab.kernel.accessAllowed ? 'block' : 'none';\n",
              "\n",
              "        async function convertToInteractive(key) {\n",
              "          const element = document.querySelector('#df-d2850e00-9ce2-4ecb-a16c-2ba2c439af7f');\n",
              "          const dataTable =\n",
              "            await google.colab.kernel.invokeFunction('convertToInteractive',\n",
              "                                                     [key], {});\n",
              "          if (!dataTable) return;\n",
              "\n",
              "          const docLinkHtml = 'Like what you see? Visit the ' +\n",
              "            '<a target=\"_blank\" href=https://colab.research.google.com/notebooks/data_table.ipynb>data table notebook</a>'\n",
              "            + ' to learn more about interactive tables.';\n",
              "          element.innerHTML = '';\n",
              "          dataTable['output_type'] = 'display_data';\n",
              "          await google.colab.output.renderOutput(dataTable, element);\n",
              "          const docLink = document.createElement('div');\n",
              "          docLink.innerHTML = docLinkHtml;\n",
              "          element.appendChild(docLink);\n",
              "        }\n",
              "      </script>\n",
              "    </div>\n",
              "  </div>\n",
              "  "
            ]
          },
          "metadata": {},
          "execution_count": 40
        }
      ],
      "source": [
        "df = pd.DataFrame(data=((k, images) for k, v in data_dict.items() for images in v), columns = [\"label\",\"image\"])\n",
        "df"
      ]
    },
    {
      "cell_type": "code",
      "execution_count": 41,
      "id": "c5063d6c",
      "metadata": {
        "colab": {
          "base_uri": "https://localhost:8080/"
        },
        "id": "c5063d6c",
        "outputId": "57841c41-89c5-43aa-f3ff-b548da71ff18"
      },
      "outputs": [
        {
          "output_type": "execute_result",
          "data": {
            "text/plain": [
              "130"
            ]
          },
          "metadata": {},
          "execution_count": 41
        }
      ],
      "source": [
        "df[\"image\"][0].max()"
      ]
    },
    {
      "cell_type": "code",
      "execution_count": 42,
      "id": "16a1307d",
      "metadata": {
        "id": "16a1307d"
      },
      "outputs": [],
      "source": [
        "df[\"image\"] = df[\"image\"] / 130"
      ]
    },
    {
      "cell_type": "code",
      "execution_count": 43,
      "id": "162fcd40",
      "metadata": {
        "colab": {
          "base_uri": "https://localhost:8080/"
        },
        "id": "162fcd40",
        "outputId": "a6b4e671-59a5-4a97-81b8-bf691c0047e3"
      },
      "outputs": [
        {
          "output_type": "execute_result",
          "data": {
            "text/plain": [
              "0       [[0.0, 0.0, 0.0, 0.0, 0.0, 0.0, 0.0, 0.0, 0.0,...\n",
              "1       [[0.0, 0.0, 0.0, 0.0, 0.0, 0.0, 0.0, 0.0, 0.0,...\n",
              "2       [[0.0, 0.0, 0.0, 0.0, 0.0, 0.0, 0.0, 0.0, 0.0,...\n",
              "3       [[0.0, 0.0, 0.0, 0.0, 0.0, 0.0, 0.0, 0.0, 0.0,...\n",
              "4       [[0.0, 0.0, 0.0, 0.0, 0.0, 0.0, 0.0, 0.0, 0.0,...\n",
              "                              ...                        \n",
              "8727    [[0.0, 0.0, 0.0, 0.0, 0.0, 0.0, 0.0, 0.0, 0.0,...\n",
              "8728    [[0.0, 0.0, 0.0, 0.0, 0.0, 0.0, 0.0, 0.0, 0.0,...\n",
              "8729    [[0.0, 0.0, 0.0, 0.0, 0.0, 0.0, 0.0, 0.0, 0.0,...\n",
              "8730    [[0.0, 0.0, 0.0, 0.0, 0.0, 0.0, 0.0, 0.0, 0.0,...\n",
              "8731    [[0.0, 0.0, 0.0, 0.0, 0.0, 0.0, 0.0, 0.0, 0.0,...\n",
              "Name: image, Length: 8732, dtype: object"
            ]
          },
          "metadata": {},
          "execution_count": 43
        }
      ],
      "source": [
        "df[\"image\"]"
      ]
    },
    {
      "cell_type": "code",
      "execution_count": 44,
      "id": "fa050d08",
      "metadata": {
        "id": "fa050d08"
      },
      "outputs": [],
      "source": [
        "X = df[\"image\"]\n",
        "y = df[\"label\"]\n",
        "\n",
        "X_train, X_temp, y_train, y_temp = train_test_split(X, y, train_size = 0.8)\n",
        "X_val, X_test, y_val, y_test = train_test_split(X_temp, y_temp, train_size = 0.5)"
      ]
    },
    {
      "cell_type": "code",
      "execution_count": 45,
      "id": "be6a8ed1",
      "metadata": {
        "id": "be6a8ed1"
      },
      "outputs": [],
      "source": [
        "X_train = X_train.to_list()\n",
        "X_val = X_val.to_list()\n",
        "X_test = X_test.to_list()\n",
        "y_train = y_train.to_list()\n",
        "y_val = y_val.to_list()\n",
        "y_test = y_test.to_list()"
      ]
    },
    {
      "cell_type": "code",
      "execution_count": 46,
      "id": "f5babc93",
      "metadata": {
        "id": "f5babc93"
      },
      "outputs": [],
      "source": [
        "X_train = np.asarray(X_train).astype(np.float32)\n",
        "X_val = np.asarray(X_val).astype(np.float32)\n",
        "X_test = np.asarray(X_test).astype(np.float32)\n",
        "y_train = np.asarray(y_train).astype(np.float32)\n",
        "y_val = np.asarray(y_val).astype(np.float32)\n",
        "y_test = np.asarray(y_test).astype(np.float32)"
      ]
    },
    {
      "cell_type": "code",
      "execution_count": 47,
      "id": "99047bcd",
      "metadata": {
        "colab": {
          "base_uri": "https://localhost:8080/"
        },
        "id": "99047bcd",
        "outputId": "8854ed47-673a-4b21-dd1d-ca6160ba5308"
      },
      "outputs": [
        {
          "output_type": "execute_result",
          "data": {
            "text/plain": [
              "label    object\n",
              "image    object\n",
              "dtype: object"
            ]
          },
          "metadata": {},
          "execution_count": 47
        }
      ],
      "source": [
        "df.dtypes"
      ]
    },
    {
      "cell_type": "code",
      "execution_count": 62,
      "id": "7c01a461",
      "metadata": {
        "id": "7c01a461"
      },
      "outputs": [],
      "source": [
        "model = tf.keras.Sequential()"
      ]
    },
    {
      "cell_type": "code",
      "execution_count": 63,
      "id": "2e06477b",
      "metadata": {
        "id": "2e06477b"
      },
      "outputs": [],
      "source": [
        "model.add(tf.keras.layers.Conv2D(32,\n",
        "                                 kernel_size = (3,3),\n",
        "                                 strides = (1,1),\n",
        "                                 padding = \"same\",\n",
        "                                 activation = \"relu\",\n",
        "                                 input_shape = (32,32,1)))\n",
        "          \n",
        "model.add(tf.keras.layers.MaxPooling2D(2,2))"
      ]
    },
    {
      "cell_type": "code",
      "execution_count": 64,
      "id": "097a4674",
      "metadata": {
        "id": "097a4674"
      },
      "outputs": [],
      "source": [
        "model.add(tf.keras.layers.Conv2D(64,\n",
        "                                 kernel_size = (3,3),\n",
        "                                 strides = (1,1),\n",
        "                                 padding = \"same\",\n",
        "                                 activation = \"relu\",\n",
        "                                 input_shape = (32,32,1)))\n",
        "\n",
        "model.add(tf.keras.layers.MaxPooling2D(2,2))\n",
        "          \n",
        "model.add(tf.keras.layers.Conv2D(64,\n",
        "                                 kernel_size = (3,3),\n",
        "                                 strides = (1,1),\n",
        "                                 padding = \"same\",\n",
        "                                 activation = \"relu\",\n",
        "                                 input_shape = (32,32,1)))"
      ]
    },
    {
      "cell_type": "code",
      "execution_count": 65,
      "id": "b79181de",
      "metadata": {
        "id": "b79181de"
      },
      "outputs": [],
      "source": [
        "model.add(tf.keras.layers.Flatten())"
      ]
    },
    {
      "cell_type": "code",
      "execution_count": 66,
      "id": "b4b5731f",
      "metadata": {
        "id": "b4b5731f"
      },
      "outputs": [],
      "source": [
        "model.add(tf.keras.layers.Dense(32, activation = \"relu\"))\n",
        "model.add(tf.keras.layers.Dropout(0.5))\n",
        "\n",
        "model.add(tf.keras.layers.Dense(32, activation = \"relu\"))\n",
        "model.add(tf.keras.layers.Dropout(0.5))"
      ]
    },
    {
      "cell_type": "code",
      "execution_count": 67,
      "id": "cf8b3675",
      "metadata": {
        "id": "cf8b3675"
      },
      "outputs": [],
      "source": [
        "model.add(tf.keras.layers.Dense(10, activation = \"softmax\"))"
      ]
    },
    {
      "cell_type": "code",
      "source": [
        "model.compile(optimizer='rmsprop',loss='sparse_categorical_crossentropy' ,metrics= 'accuracy') "
      ],
      "metadata": {
        "id": "m_CIG4aOqajB"
      },
      "id": "m_CIG4aOqajB",
      "execution_count": 68,
      "outputs": []
    },
    {
      "cell_type": "code",
      "execution_count": 69,
      "id": "5d22309d",
      "metadata": {
        "colab": {
          "base_uri": "https://localhost:8080/"
        },
        "id": "5d22309d",
        "outputId": "2651c5cd-b5fb-43a0-afe2-9f61c78dc965"
      },
      "outputs": [
        {
          "output_type": "stream",
          "name": "stdout",
          "text": [
            "Epoch 1/30\n",
            "55/55 [==============================] - 12s 204ms/step - loss: 2.1374 - accuracy: 0.2074 - val_loss: 1.7712 - val_accuracy: 0.4250\n",
            "Epoch 2/30\n",
            "55/55 [==============================] - 11s 202ms/step - loss: 1.9325 - accuracy: 0.2866 - val_loss: 1.6951 - val_accuracy: 0.3986\n",
            "Epoch 3/30\n",
            "55/55 [==============================] - 11s 202ms/step - loss: 1.8207 - accuracy: 0.3294 - val_loss: 1.4732 - val_accuracy: 0.5086\n",
            "Epoch 4/30\n",
            "55/55 [==============================] - 11s 200ms/step - loss: 1.7078 - accuracy: 0.3814 - val_loss: 1.4366 - val_accuracy: 0.5533\n",
            "Epoch 5/30\n",
            "55/55 [==============================] - 11s 201ms/step - loss: 1.6578 - accuracy: 0.3994 - val_loss: 1.3620 - val_accuracy: 0.5785\n",
            "Epoch 6/30\n",
            "55/55 [==============================] - 11s 201ms/step - loss: 1.5587 - accuracy: 0.4338 - val_loss: 1.2184 - val_accuracy: 0.5899\n",
            "Epoch 7/30\n",
            "55/55 [==============================] - 11s 201ms/step - loss: 1.5150 - accuracy: 0.4531 - val_loss: 1.1350 - val_accuracy: 0.6151\n",
            "Epoch 8/30\n",
            "55/55 [==============================] - 11s 202ms/step - loss: 1.4343 - accuracy: 0.4779 - val_loss: 1.0373 - val_accuracy: 0.6586\n",
            "Epoch 9/30\n",
            "55/55 [==============================] - 12s 211ms/step - loss: 1.3990 - accuracy: 0.4969 - val_loss: 1.0135 - val_accuracy: 0.6667\n",
            "Epoch 10/30\n",
            "55/55 [==============================] - 12s 225ms/step - loss: 1.3523 - accuracy: 0.5052 - val_loss: 1.0018 - val_accuracy: 0.6415\n",
            "Epoch 11/30\n",
            "55/55 [==============================] - 11s 201ms/step - loss: 1.3208 - accuracy: 0.5247 - val_loss: 0.9887 - val_accuracy: 0.6919\n",
            "Epoch 12/30\n",
            "55/55 [==============================] - 11s 201ms/step - loss: 1.2825 - accuracy: 0.5472 - val_loss: 0.8774 - val_accuracy: 0.7182\n",
            "Epoch 13/30\n",
            "55/55 [==============================] - 11s 201ms/step - loss: 1.2201 - accuracy: 0.5665 - val_loss: 0.8732 - val_accuracy: 0.7194\n",
            "Epoch 14/30\n",
            "55/55 [==============================] - 11s 202ms/step - loss: 1.1940 - accuracy: 0.5699 - val_loss: 0.9660 - val_accuracy: 0.6999\n",
            "Epoch 15/30\n",
            "55/55 [==============================] - 11s 202ms/step - loss: 1.1526 - accuracy: 0.5891 - val_loss: 0.8324 - val_accuracy: 0.7617\n",
            "Epoch 16/30\n",
            "55/55 [==============================] - 11s 201ms/step - loss: 1.1293 - accuracy: 0.6052 - val_loss: 0.8249 - val_accuracy: 0.7136\n",
            "Epoch 17/30\n",
            "55/55 [==============================] - 11s 201ms/step - loss: 1.0767 - accuracy: 0.6172 - val_loss: 0.7532 - val_accuracy: 0.7663\n",
            "Epoch 18/30\n",
            "55/55 [==============================] - 11s 202ms/step - loss: 1.0623 - accuracy: 0.6301 - val_loss: 0.7554 - val_accuracy: 0.7709\n",
            "Epoch 19/30\n",
            "55/55 [==============================] - 11s 202ms/step - loss: 1.0308 - accuracy: 0.6328 - val_loss: 0.8009 - val_accuracy: 0.7423\n",
            "Epoch 20/30\n",
            "55/55 [==============================] - 11s 202ms/step - loss: 1.0013 - accuracy: 0.6464 - val_loss: 0.7323 - val_accuracy: 0.7606\n",
            "Epoch 21/30\n",
            "55/55 [==============================] - 11s 201ms/step - loss: 0.9927 - accuracy: 0.6534 - val_loss: 0.7288 - val_accuracy: 0.7663\n",
            "Epoch 22/30\n",
            "55/55 [==============================] - 11s 201ms/step - loss: 0.9500 - accuracy: 0.6680 - val_loss: 0.6617 - val_accuracy: 0.7778\n",
            "Epoch 23/30\n",
            "55/55 [==============================] - 11s 209ms/step - loss: 0.9354 - accuracy: 0.6684 - val_loss: 0.6361 - val_accuracy: 0.7950\n",
            "Epoch 24/30\n",
            "55/55 [==============================] - 11s 201ms/step - loss: 0.9145 - accuracy: 0.6806 - val_loss: 0.6295 - val_accuracy: 0.7950\n",
            "Epoch 25/30\n",
            "55/55 [==============================] - 11s 201ms/step - loss: 0.8669 - accuracy: 0.6936 - val_loss: 0.7105 - val_accuracy: 0.7743\n",
            "Epoch 26/30\n",
            "55/55 [==============================] - 13s 237ms/step - loss: 0.8869 - accuracy: 0.6876 - val_loss: 0.5923 - val_accuracy: 0.8179\n",
            "Epoch 27/30\n",
            "55/55 [==============================] - 11s 202ms/step - loss: 0.8404 - accuracy: 0.7097 - val_loss: 0.6451 - val_accuracy: 0.8007\n",
            "Epoch 28/30\n",
            "55/55 [==============================] - 11s 202ms/step - loss: 0.8267 - accuracy: 0.7077 - val_loss: 0.5888 - val_accuracy: 0.8064\n",
            "Epoch 29/30\n",
            "55/55 [==============================] - 12s 223ms/step - loss: 0.7789 - accuracy: 0.7284 - val_loss: 0.5715 - val_accuracy: 0.8110\n",
            "Epoch 30/30\n",
            "55/55 [==============================] - 11s 202ms/step - loss: 0.7904 - accuracy: 0.7201 - val_loss: 0.6605 - val_accuracy: 0.8041\n"
          ]
        }
      ],
      "source": [
        "results = model.fit(X_train, y_train,\n",
        "                    batch_size = 128,\n",
        "                    epochs = 30,\n",
        "                    validation_data = (X_val, y_val))"
      ]
    },
    {
      "cell_type": "code",
      "execution_count": 70,
      "id": "18f7234f",
      "metadata": {
        "colab": {
          "base_uri": "https://localhost:8080/",
          "height": 281
        },
        "id": "18f7234f",
        "outputId": "d0fcd845-3ad6-4d99-842b-c0eb0596454c"
      },
      "outputs": [
        {
          "output_type": "display_data",
          "data": {
            "text/plain": [
              "<Figure size 432x288 with 1 Axes>"
            ],
            "image/png": "[encoded data removed]"
          },
          "metadata": {
            "needs_background": "light"
          }
        }
      ],
      "source": [
        "plt.plot(results.history[\"loss\"], label = \"loss\")\n",
        "plt.plot(results.history[\"val_loss\"], label = \"val_loss\")\n",
        "\n",
        "plt.xlabel(\"Epoch\")\n",
        "plt.ylabel(\"Loss\")\n",
        "plt.legend()\n",
        "plt.show()"
      ]
    },
    {
      "cell_type": "code",
      "execution_count": 71,
      "id": "ff52768a",
      "metadata": {
        "colab": {
          "base_uri": "https://localhost:8080/",
          "height": 279
        },
        "id": "ff52768a",
        "outputId": "1e0621ca-e446-4d0f-8dfd-54d8cd4fbde7"
      },
      "outputs": [
        {
          "output_type": "display_data",
          "data": {
            "text/plain": [
              "<Figure size 432x288 with 1 Axes>"
            ],
            "image/png": "[encoded data removed]"
          },
          "metadata": {
            "needs_background": "light"
          }
        }
      ],
      "source": [
        "plt.plot(results.history[\"accuracy\"], label = \"accuracy\")\n",
        "plt.plot(results.history[\"val_accuracy\"], label = \"val_accuracy\")\n",
        "\n",
        "plt.xlabel(\"Epoch\")\n",
        "plt.ylabel(\"Accuracy\")\n",
        "plt.legend()\n",
        "plt.show()"
      ]
    },
    {
      "cell_type": "code",
      "execution_count": 72,
      "id": "cace4588",
      "metadata": {
        "colab": {
          "base_uri": "https://localhost:8080/"
        },
        "id": "cace4588",
        "outputId": "c3e65820-3bc9-468c-e5b8-1e6e7abdb652"
      },
      "outputs": [
        {
          "output_type": "stream",
          "name": "stdout",
          "text": [
            "28/28 [==============================] - 0s 15ms/step - loss: 0.6666 - accuracy: 0.8089\n"
          ]
        },
        {
          "output_type": "execute_result",
          "data": {
            "text/plain": [
              "[0.666630744934082, 0.8089244961738586]"
            ]
          },
          "metadata": {},
          "execution_count": 72
        }
      ],
      "source": [
        "model.evaluate(X_test, y_test)"
      ]
    },
    {
      "cell_type": "code",
      "execution_count": 84,
      "id": "78aa6579",
      "metadata": {
        "colab": {
          "base_uri": "https://localhost:8080/"
        },
        "id": "78aa6579",
        "outputId": "9343aae5-5ec2-4037-f0ed-261e06f7ff9c"
      },
      "outputs": [
        {
          "output_type": "execute_result",
          "data": {
            "text/plain": [
              "array([[0.00974509, 0.6779519 , 0.0238986 , 0.09409095, 0.10211053,\n",
              "        0.01779589, 0.00386915, 0.02696901, 0.02193978, 0.02162907]],\n",
              "      dtype=float32)"
            ]
          },
          "metadata": {},
          "execution_count": 84
        }
      ],
      "source": [
        "pred_result = model.predict(X_test[7].reshape(1,32,32,1)) ## testing random image \n",
        "\n",
        "pred_result # prob of which class the image[7] belongs "
      ]
    },
    {
      "cell_type": "code",
      "execution_count": 85,
      "id": "afbc74f2",
      "metadata": {
        "colab": {
          "base_uri": "https://localhost:8080/"
        },
        "id": "afbc74f2",
        "outputId": "a5fbcc2a-edea-4885-f323-b3df94918469"
      },
      "outputs": [
        {
          "output_type": "stream",
          "name": "stdout",
          "text": [
            "This image belongs to class 1 with 0.6779518723487854 probability.\n"
          ]
        }
      ],
      "source": [
        "pred_class = pred_result.argmax() \n",
        "pred_prob = pred_result.max()\n",
        "\n",
        "print(f\"This image belongs to class {pred_class} with {pred_prob} probability.\")"
      ]
    },
    {
      "cell_type": "code",
      "execution_count": 83,
      "id": "bf5d44aa",
      "metadata": {
        "colab": {
          "base_uri": "https://localhost:8080/"
        },
        "id": "bf5d44aa",
        "outputId": "5158ec3d-8def-4aff-bb31-6ed856b9a914"
      },
      "outputs": [
        {
          "output_type": "execute_result",
          "data": {
            "text/plain": [
              "array([4., 5., 9., 0., 2., 9., 5., 1., 2., 0., 8., 5., 6., 4., 3., 1., 2.,\n",
              "       3., 2., 0., 0., 5., 2., 5., 5., 2., 9., 2., 6., 0., 9., 5., 0., 2.,\n",
              "       0., 7., 8., 8., 8., 7., 2., 6., 4., 4., 0., 5., 5., 1., 2., 3., 0.,\n",
              "       5., 2., 8., 9., 9., 9., 5., 5., 4., 5., 3., 8., 5., 2., 1., 1., 3.,\n",
              "       9., 2., 4., 7., 4., 4., 3., 2., 9., 5., 8., 5., 1., 4., 4., 2., 4.,\n",
              "       5., 1., 0., 4., 3., 4., 4., 7., 9., 4., 4., 0., 4., 8., 9., 2., 3.,\n",
              "       0., 0., 0., 4., 2., 4., 4., 2., 8., 3., 3., 2., 7., 4., 7., 5., 1.,\n",
              "       6., 7., 2., 9., 9., 0., 9., 8., 9., 5., 4., 2., 4., 4., 9., 5., 4.,\n",
              "       5., 3., 9., 3., 2., 8., 1., 4., 0., 1., 0., 8., 8., 5., 7., 9., 8.,\n",
              "       9., 5., 2., 5., 2., 8., 6., 3., 8., 0., 7., 0., 8., 6., 5., 1., 0.,\n",
              "       0., 0., 9., 8., 2., 5., 3., 6., 2., 9., 0., 4., 7., 2., 3., 5., 5.,\n",
              "       3., 5., 9., 0., 7., 9., 9., 9., 4., 9., 4., 0., 4., 6., 3., 8., 6.,\n",
              "       4., 3., 5., 8., 4., 3., 4., 4., 6., 4., 6., 8., 2., 3., 9., 0., 8.,\n",
              "       3., 3., 2., 9., 3., 2., 7., 7., 4., 3., 8., 4., 4., 3., 7., 8., 3.,\n",
              "       0., 4., 8., 7., 9., 5., 1., 7., 2., 8., 5., 5., 6., 7., 4., 3., 0.,\n",
              "       5., 2., 3., 4., 6., 7., 6., 3., 4., 1., 1., 3., 2., 7., 4., 5., 2.,\n",
              "       8., 6., 1., 5., 8., 6., 3., 8., 9., 3., 4., 7., 8., 8., 0., 4., 4.,\n",
              "       2., 8., 3., 1., 2., 2., 8., 0., 8., 9., 1., 4., 9., 0., 5., 3., 9.,\n",
              "       6., 5., 7., 9., 0., 5., 0., 8., 5., 9., 3., 0., 4., 5., 3., 8., 9.,\n",
              "       5., 4., 0., 2., 6., 5., 3., 3., 5., 8., 2., 8., 3., 5., 4., 7., 3.,\n",
              "       5., 8., 3., 5., 7., 5., 7., 9., 3., 4., 4., 3., 4., 9., 3., 7., 0.,\n",
              "       5., 3., 8., 7., 0., 0., 4., 6., 2., 2., 7., 4., 1., 0., 2., 5., 9.,\n",
              "       8., 7., 3., 6., 7., 9., 7., 4., 2., 7., 9., 0., 6., 5., 0., 7., 0.,\n",
              "       8., 6., 3., 8., 7., 9., 3., 4., 8., 8., 5., 4., 2., 8., 8., 2., 9.,\n",
              "       7., 0., 1., 7., 2., 3., 5., 3., 6., 7., 9., 5., 8., 4., 0., 0., 0.,\n",
              "       9., 2., 2., 2., 4., 1., 0., 0., 8., 7., 5., 8., 5., 2., 4., 9., 9.,\n",
              "       9., 8., 2., 4., 6., 3., 0., 9., 5., 3., 0., 2., 9., 7., 4., 7., 1.,\n",
              "       4., 2., 8., 3., 4., 1., 0., 2., 4., 8., 2., 0., 7., 6., 4., 8., 4.,\n",
              "       7., 0., 3., 2., 7., 6., 3., 3., 6., 3., 3., 0., 4., 2., 7., 2., 2.,\n",
              "       5., 7., 5., 3., 6., 8., 2., 0., 0., 3., 2., 3., 9., 8., 4., 2., 7.,\n",
              "       2., 0., 8., 5., 7., 9., 0., 4., 7., 9., 1., 9., 1., 3., 2., 0., 7.,\n",
              "       7., 4., 8., 9., 3., 7., 2., 5., 4., 9., 0., 0., 7., 5., 7., 8., 0.,\n",
              "       0., 7., 4., 8., 1., 4., 9., 7., 9., 1., 3., 7., 3., 3., 3., 3., 7.,\n",
              "       7., 5., 4., 5., 9., 5., 5., 4., 7., 6., 7., 7., 4., 0., 6., 2., 7.,\n",
              "       6., 2., 5., 0., 9., 5., 5., 5., 4., 8., 7., 9., 9., 3., 9., 9., 8.,\n",
              "       2., 8., 3., 5., 0., 0., 8., 2., 2., 6., 9., 8., 1., 8., 0., 0., 0.,\n",
              "       3., 3., 2., 7., 0., 7., 8., 2., 4., 7., 2., 4., 5., 4., 5., 2., 3.,\n",
              "       4., 5., 3., 4., 2., 7., 0., 3., 5., 6., 7., 3., 9., 2., 8., 4., 6.,\n",
              "       8., 8., 4., 3., 5., 8., 0., 3., 3., 3., 9., 3., 3., 2., 2., 4., 6.,\n",
              "       2., 5., 2., 5., 3., 4., 2., 5., 0., 6., 1., 5., 3., 3., 2., 4., 8.,\n",
              "       9., 2., 8., 4., 4., 9., 3., 0., 2., 9., 3., 7., 0., 0., 9., 0., 4.,\n",
              "       8., 4., 3., 5., 8., 9., 5., 2., 9., 3., 0., 1., 7., 3., 2., 3., 9.,\n",
              "       6., 2., 5., 9., 3., 4., 8., 9., 1., 4., 7., 0., 4., 6., 7., 8., 5.,\n",
              "       2., 2., 8., 5., 7., 1., 7., 7., 6., 9., 8., 7., 9., 6., 5., 8., 4.,\n",
              "       5., 5., 3., 5., 8., 3., 2., 9., 4., 3., 9., 6., 5., 3., 9., 8., 1.,\n",
              "       3., 0., 5., 2., 5., 9., 7., 7., 5., 9., 7., 8., 2., 3., 0., 9., 0.,\n",
              "       0., 8., 7., 3., 4., 3., 4., 3., 4., 7., 2., 3., 8., 1., 6., 2., 9.,\n",
              "       0., 5., 5., 9., 6., 0., 1., 9., 1., 7., 2., 0., 8., 3., 3., 7., 5.,\n",
              "       2., 3., 2., 8., 5., 8., 5., 3., 5., 5., 9., 4., 3., 8., 2., 0., 0.,\n",
              "       3., 5., 5., 7., 0., 1., 4., 6., 8., 9., 1., 4., 3., 7., 8., 7., 3.,\n",
              "       3., 8., 5., 0., 9., 7., 9., 9., 2., 3., 8., 4., 0., 7., 7., 0., 0.,\n",
              "       5., 8., 5., 8., 0., 0., 7.], dtype=float32)"
            ]
          },
          "metadata": {},
          "execution_count": 83
        }
      ],
      "source": [
        "y_test"
      ]
    }
  ],
  "metadata": {
    "kernelspec": {
      "display_name": "Python 3 (ipykernel)",
      "language": "python",
      "name": "python3"
    },
    "language_info": {
      "codemirror_mode": {
        "name": "ipython",
        "version": 3
      },
      "file_extension": ".py",
      "mimetype": "text/x-python",
      "name": "python",
      "nbconvert_exporter": "python",
      "pygments_lexer": "ipython3",
      "version": "3.9.12"
    },
    "colab": {
      "provenance": []
    },
    "accelerator": "GPU"
  },
  "nbformat": 4,
  "nbformat_minor": 5
}